{
 "cells": [
  {
   "cell_type": "code",
   "execution_count": 1,
   "id": "38d9ee36-9c76-4c99-99af-e68be0e66011",
   "metadata": {},
   "outputs": [],
   "source": [
    "from loanpy.helpers import Etym"
   ]
  },
  {
   "cell_type": "code",
   "execution_count": 2,
   "id": "4545cb7f-1df2-4be5-8fcf-311ab33c86ed",
   "metadata": {},
   "outputs": [],
   "source": [
    "etym_obj = Etym(\"forms.csv\", source_language=\"WOT\", target_language=\"EAH\")"
   ]
  },
  {
   "cell_type": "code",
   "execution_count": null,
   "id": "aad1d120",
   "metadata": {},
   "outputs": [],
   "source": [
    "etym_obj.get_scdictbase(write_to=\"scWOT2EAH.txt\")  # 1.7MB!"
   ]
  },
  {
   "cell_type": "code",
   "execution_count": null,
   "id": "38cacd47",
   "metadata": {},
   "outputs": [],
   "source": [
    "from loanpy.qfysc import Qfy\n",
    "qfy_obj = Qfy(\"forms.csv\", \"WOT\", \"EAH\", scdictbase=\"scWOT2EAH.txt\", mode=\"adapt\")\n",
    "qfy_obj.get_sound_corresp(\"scWOT2EAH.txt\")"
   ]
  },
  {
   "cell_type": "code",
   "execution_count": null,
   "id": "4ecac985",
   "metadata": {},
   "outputs": [],
   "source": [
    "qfy_obj = Qfy(\"forms.csv\", \"H\", \"EAH\", mode=\"reconstruct\")\n",
    "qfy_obj.get_sound_corresp(\"scH2EAH.txt\")"
   ]
  },
  {
   "cell_type": "code",
   "execution_count": 6,
   "id": "b19d36a0-a86b-40a9-b036-8983d72c729b",
   "metadata": {},
   "outputs": [],
   "source": [
    "from loanpy.adrc import Adrc"
   ]
  },
  {
   "cell_type": "code",
   "execution_count": 7,
   "id": "390e0715-9895-45ae-bc4e-21f215763abc",
   "metadata": {},
   "outputs": [],
   "source": [
    "ad_obj = Adrc(scdictlist=\"scWOT2EAH.txt\", forms_csv=\"forms.csv\", source_language=\"WOT\",\n",
    "                target_language=\"EAH\", mode=\"adapt\")"
   ]
  },
  {
   "cell_type": "code",
   "execution_count": 8,
   "id": "de223980",
   "metadata": {},
   "outputs": [],
   "source": [
    "from epitran import Epitran\n",
    "epi = Epitran(\"deu-Latn\")"
   ]
  },
  {
   "cell_type": "code",
   "execution_count": 9,
   "id": "03d451d5",
   "metadata": {},
   "outputs": [
    {
     "data": {
      "text/plain": [
       "'maksplaŋk'"
      ]
     },
     "execution_count": 9,
     "metadata": {},
     "output_type": "execute_result"
    }
   ],
   "source": [
    "epi.transliterate(\"maxplank\")"
   ]
  },
  {
   "cell_type": "code",
   "execution_count": 10,
   "id": "5d22d0fa",
   "metadata": {},
   "outputs": [
    {
     "data": {
      "text/plain": [
       "'maɣplanɯk, maɣplanik, maɣplanɛk, maɣplanak, maɣplanuk, maɣplanok, maɣplanek, maɣblanɯk, maɣblanik, maɣblanɛk, maɣblanak, maɣblanuk, maɣblanok, maɣblanek, mːaɣplanɯk, mːaɣplanik, mːaɣplanɛk, mːaɣplanak, mːaɣplanuk, mːaɣplanok, mːaɣplanek, mːaɣblanɯk, mːaɣblanik, maɣplamɯk, mːaɣblanɛk, mːaɣblanak, maɣplamik, mːaɣblanuk, mːaɣblanok, mːaɣblanek, maɣplamɛk, maɣplamak, maɣplamuk, maɣplamok, maɣplamek, maɣpanɯk, maɣpanik, maɣpanɛk, maɣpanak, maɣblamɯk, maɣpanuk, maɣpanok, maɣblamik, maɣpanek, maɣblamɛk, maɣblamak, maɣblamuk, maɣblamok, maɣblamek, mːaɣplamɯk, mːaɣplamik, mːaɣplamɛk, mːaɣplamak, mːaɣplamuk, mːaɣplamok, mːaɣplamek, maɣbanɯk, maɣbanik, maɣbanɛk, maɣbanak, maɣbanuk, maɣbanok, maɣbanek, mːaɣpanɯk, mːaɣpanik, mːaɣpanɛk, mːaɣpanak, mːaɣblamɯk, mːaɣpanuk, mːaɣpanok, mːaɣblamik, mːaɣpanek, mːaɣblamɛk, mːaɣblamak, mːaɣblamuk, mːaɣblamok, mːaɣblamek, mːaɣbanɯk, mːaɣbanik, maɣpamɯk, mːaɣbanɛk, mːaɣbanak, maɣpamik, mːaɣbanuk, mːaɣbanok, mːaɣbanek, maɣpamɛk, maɣpamak, maɣpamuk, maɣpamok, maɣpamek, maɣbamɯk, maɣbamik, maɣbamɛk, maɣbamak, maɣbamuk, maɣbamok, maɣbamek, mːaɣpamɯk, mːaɣpamik'"
      ]
     },
     "execution_count": 10,
     "metadata": {},
     "output_type": "execute_result"
    }
   ],
   "source": [
    "ad_obj.adapt(\"maxplank\", 100, max_repaired_phonotactics=1, sort_by_nse=True, show_workflow=True)"
   ]
  },
  {
   "cell_type": "code",
   "execution_count": null,
   "id": "0bc187f7",
   "metadata": {},
   "outputs": [],
   "source": [
    "ad_obj.workflow"
   ]
  },
  {
   "cell_type": "code",
   "execution_count": null,
   "id": "8b0fd6c5",
   "metadata": {},
   "outputs": [],
   "source": [
    "rc_obj = Adrc(scdictlist=\"scH2EAH.txt\", forms_csv=\"forms.csv\", source_language=\"H\",\n",
    "                target_language=\"EAH\", mode=\"reconstruct\")"
   ]
  },
  {
   "cell_type": "code",
   "execution_count": null,
   "id": "4fdba15c",
   "metadata": {},
   "outputs": [],
   "source": [
    "rc_obj.reconstruct(\"aːr\", howmany=4, vowelharmony_filter=True)"
   ]
  },
  {
   "cell_type": "code",
   "execution_count": null,
   "id": "373847be",
   "metadata": {},
   "outputs": [],
   "source": [
    "from loanpy.sanity import eval_all, cache\n",
    "\n",
    "eval_all = cache(eval_all)\n",
    "\n",
    "eval_all(forms_csv=\"forms.csv\", target_language=\"EAH\",\n",
    "         source_language=\"WOT\", mode=\"reconstruct\", clusters=True, sort_by_nse=True, write_to=\"opt_params.csv\",\n",
    "        path2cache=\"cache.csv\")"
   ]
  }
 ],
 "metadata": {
  "kernelspec": {
   "display_name": "Python_3_9",
   "language": "python",
   "name": "python_3_9"
  },
  "language_info": {
   "codemirror_mode": {
    "name": "ipython",
    "version": 3
   },
   "file_extension": ".py",
   "mimetype": "text/x-python",
   "name": "python",
   "nbconvert_exporter": "python",
   "pygments_lexer": "ipython3",
   "version": "3.8.10"
  }
 },
 "nbformat": 4,
 "nbformat_minor": 5
}
